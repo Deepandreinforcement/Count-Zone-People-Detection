{
 "cells": [
  {
   "cell_type": "code",
   "execution_count": null,
   "id": "2ac33068",
   "metadata": {},
   "outputs": [],
   "source": [
    "# İlk önce kullnacağımız Github reposunu indiriyoruz. Bunu sadece bir defa yapmamız yeterli.\n",
    "# Yani başka zaman yapmaya gerek yok. Tabi indirilen klasörü silmezseniz\n",
    "!git clone https://github.com/WongKinYiu/yolov7"
   ]
  },
  {
   "cell_type": "code",
   "execution_count": null,
   "id": "5f7ec626",
   "metadata": {},
   "outputs": [],
   "source": [
    "# Burada  modeli yükleyeceğiz.\n",
    "# O yüzden dosya dizinini modelin bulunduğu klasör olarak değiştiriyoruz.\n",
    "%cd yolov7"
   ]
  },
  {
   "cell_type": "code",
   "execution_count": null,
   "id": "07da9688",
   "metadata": {},
   "outputs": [],
   "source": [
    "#  Kullnacağımızn modelin ağırlıklarını inidiriyoruz. \n",
    "# Bu da tek seferlik bir işlem\n",
    "!wget https://github.com/WongKinYiu/yolov7/releases/download/v0.1/yolov7.pt"
   ]
  },
  {
   "cell_type": "code",
   "execution_count": null,
   "id": "3f0024a5",
   "metadata": {},
   "outputs": [],
   "source": [
    "# Ağırlıkları yükleyerek modeli tanımlıyoruz.\n",
    "from  hubconf import custom\n",
    "model = custom(path_or_model='yolov7.pt')"
   ]
  },
  {
   "cell_type": "code",
   "execution_count": null,
   "id": "7facb361",
   "metadata": {},
   "outputs": [],
   "source": [
    "# etiketleri tanımlıyoruz.\n",
    "labels=[ 'person', 'bicycle', 'car', 'motorcycle', 'airplane', 'bus', 'train', 'truck', 'boat', 'traffic light',\n",
    "         'fire hydrant', 'stop sign', 'parking meter', 'bench', 'bird', 'cat', 'dog', 'horse', 'sheep', 'cow',\n",
    "         'elephant', 'bear', 'zebra', 'giraffe', 'backpack', 'umbrella', 'handbag', 'tie', 'suitcase', 'frisbee',\n",
    "         'skis', 'snowboard', 'sports ball', 'kite', 'baseball bat', 'baseball glove', 'skateboard', 'surfboard',\n",
    "         'tennis racket', 'bottle', 'wine glass', 'cup', 'fork', 'knife', 'spoon', 'bowl', 'banana', 'apple',\n",
    "         'sandwich', 'orange', 'broccoli', 'carrot', 'hot dog', 'pizza', 'donut', 'cake', 'chair', 'couch',\n",
    "         'potted plant', 'bed', 'dining table', 'toilet', 'tv', 'laptop', 'mouse', 'remote', 'keyboard', 'cell phone',\n",
    "         'microwave', 'oven', 'toaster', 'sink', 'refrigerator', 'book', 'clock', 'vase', 'scissors', 'teddy bear',\n",
    "         'hair drier', 'toothbrush' ]"
   ]
  },
  {
   "cell_type": "code",
   "execution_count": null,
   "id": "5c163803",
   "metadata": {},
   "outputs": [],
   "source": [
    "%cd .."
   ]
  },
  {
   "cell_type": "code",
   "execution_count": null,
   "id": "0ec872bc",
   "metadata": {},
   "outputs": [],
   "source": [
    "# Kütüphaneleri yüklüyoruz.\n",
    "import cv2\n",
    "import numpy as np"
   ]
  },
  {
   "cell_type": "code",
   "execution_count": null,
   "id": "ff4fbe37",
   "metadata": {},
   "outputs": [],
   "source": [
    "kamera= cv2.VideoCapture('test3.mp4')\n",
    "font = cv2.FONT_HERSHEY_COMPLEX\n",
    "\n",
    "# Kullanacağımız bölgeleri tanımlıyoruz. \n",
    "# Bunlar şeklin köşe noktaları\n",
    "region1=np.array([(100,200),(400,1050),(1200,1000),(750,200)])\n",
    "region1 = region1.reshape((-1,1,2))\n",
    "\n",
    "region2=np.array([(1300,400),(1100,600),(1300,800),(1700,800),(1900,600),(1700,400)])\n",
    "region2 = region2.reshape((-1,1,2))\n",
    "while True:\n",
    "\n",
    "\n",
    "    ret,kare=kamera.read()\n",
    "    if not ret:\n",
    "        break\n",
    "    # Burada her bir bölge için bir değişken tanımladık.\n",
    "    # Burada anlık bölgeye giren kişileri bulacağımız için\n",
    "    # Her yeni görüntü alındığında bunlar sıfırlanıyor.\n",
    "    total1=0\n",
    "    total2=0\n",
    "    \n",
    "    imgs=cv2.cvtColor(kare,cv2.COLOR_BGR2RGB)\n",
    "    # Resmi modele verdik\n",
    "    results = model(imgs) \n",
    "    \n",
    "    # Burada kça tane nesne varsa o kadar dönecek bu for döngüsü.\n",
    "    # Burada her bir i ile bir nesneye bakıyoruz.\n",
    "    for i in range(len(results.xyxy[0])):\n",
    "        x1,y1,x2,y2,score,label=results.xyxy[0][i]\n",
    "        x1,y1,x2,y2,score,label=int(x1),int(y1),int(x2),int(y2),float(score),int(label)\n",
    "        name=labels[label]\n",
    "        # Burada eğer nesneni score'u %20'den küçükse dikkate alınmıyor.\n",
    "        # Ayrıca insan dışındaki diğer nesneler de dikkate alınmıyor.\n",
    "        if score<0.2 or name!='person':\n",
    "            continue\n",
    "        # İnsanların orta noktasını buluyoruz.\n",
    "        cx=int((x1+x2)/2)\n",
    "        cy=int((y1+y2)/2)\n",
    "        # orta noktaları ekranda daire olarak gösteriyoruz.\n",
    "        cv2.circle(kare,(cx,cy),15,(0,255,255),-1)\n",
    "        \n",
    "        # Burada insanların orta noktası 1. Bölgeye girmiş mi diye bakıyoruz.\n",
    "        # Eğer girmişse bu değer 1 olarak dönüyor.\n",
    "        # Tam sınırdaysa 0 girmemişse -1 olarak dönüyor.\n",
    "        inside_region1=cv2.pointPolygonTest(region1,(cx,cy),False)\n",
    "        if inside_region1>0:\n",
    "            # eğer nesne bu bölgeye girmişse o bölgeye ait değişkenin değeri 1 artıyor.\n",
    "            total1+=1\n",
    "            \n",
    "        inside_region2=cv2.pointPolygonTest(region2,(cx,cy),False)\n",
    "        if inside_region2>0:\n",
    "            total2+=1\n",
    "        \n",
    "        \n",
    "        # Burada her bir nesneye bir dikdörtgen çiziliyor.\n",
    "        cv2.rectangle(kare,(x1,y1),(x2,y2),(255,0,0),2)\n",
    "        # ekranda hangi nesne olduğunu ve yüzdelik score  değerini göstermek için bu değişkeni tanımlıyoruz.\n",
    "        text= name+' '+str(format(score, '.2f'))\n",
    "        # ekrana nesnenin adını ve yüzdelik score  değerini yazdırıyoruz\n",
    "        cv2.putText(kare, text,(x1, y1-10), font, 1.5, (102,0,153), 2)\n",
    "        \n",
    "    # Bölgelere giren kişi sayılarını bölgelerin biraz üstüne yazdırıyoruz.\n",
    "    cv2.putText(kare, str(total1),(100, 150), font, 5, (0,0,255), 5)\n",
    "    cv2.putText(kare, str(total2),(1400, 400), font, 5, (255,255,0), 5)\n",
    "    \n",
    "    # Bölgeleri ekranda gösteriyoruz.\n",
    "    cv2.polylines(kare,[region1],True,(0,255,0),10)\n",
    "    cv2.polylines(kare,[region2],True,(0,150,255),10)\n",
    "    # videonun çözünürlüğü büyük olduğu için ekranda gösterilirken ekrana sğısın diye boyutunu küçülttük\n",
    "    kare=cv2.resize(kare,(0,0),fx=0.5,fy=0.5)\n",
    "    cv2.imshow(\"kamera\",kare)\n",
    "   \n",
    "    if cv2.waitKey(1) & 0xFF == ord('q'):\n",
    "        break\n",
    "        \n",
    "\n",
    "kamera.release()\n",
    "cv2.destroyAllWindows()"
   ]
  },
  {
   "cell_type": "code",
   "execution_count": null,
   "id": "d4ee2c80",
   "metadata": {},
   "outputs": [],
   "source": []
  }
 ],
 "metadata": {
  "kernelspec": {
   "display_name": "Python 3 (ipykernel)",
   "language": "python",
   "name": "python3"
  },
  "language_info": {
   "codemirror_mode": {
    "name": "ipython",
    "version": 3
   },
   "file_extension": ".py",
   "mimetype": "text/x-python",
   "name": "python",
   "nbconvert_exporter": "python",
   "pygments_lexer": "ipython3",
   "version": "3.9.13"
  }
 },
 "nbformat": 4,
 "nbformat_minor": 5
}
